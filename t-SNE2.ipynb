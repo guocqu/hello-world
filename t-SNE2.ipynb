{
 "cells": [
  {
   "cell_type": "code",
   "execution_count": 1,
   "metadata": {
    "collapsed": true
   },
   "outputs": [],
   "source": [
    "good = ['fair', 'excellent', 'beautiful', 'pretty', 'wonderful', 'lovely', 'gorgeous', 'handsome', 'elegant', 'charming', 'pleasing', 'cute', 'splendid', 'marvelous', 'magnificent']\n",
    "bad = ['ordinary', 'crude', 'poor', 'unattractive', 'dull', 'repulsive', 'grotesque', 'ugly', 'hideous', 'awful', 'disgusting', 'horrible', 'horrid', 'foul', 'beastly']\n",
    "male = ['groom', 'boy', 'his', 'he', 'man', 'dad', 'husband', 'grandfather', 'father', 'uncle', 'brother', 'son', 'grandson', 'nephew', 'king', 'prince']\n",
    "femal = ['bride', 'aunt', 'princess', 'niece', 'grandmother', 'sister', 'daughter', 'wife', 'mother', 'her', 'she', 'woman', 'girl', 'mom', 'queen']"
   ]
  },
  {
   "cell_type": "code",
   "execution_count": 2,
   "metadata": {
    "collapsed": true
   },
   "outputs": [],
   "source": [
    "#以读取文件显示t-sne，\n",
    "import numpy as np\n",
    "\n",
    "X_glove = np.zeros((5892,300))\n",
    "X_word = []\n",
    "\n",
    "vec = open('Embedding_Pre/fasttext_WE_300.txt','r')\n",
    "line_index = 0\n",
    "for line in vec:\n",
    "    index = line.index(' ')\n",
    "    word = line[:index]\n",
    "    vect_str = line[index+1:].split()\n",
    "    vect_float = [float(x) for x in vect_str]\n",
    "    vect = np.array(vect_float)\n",
    "    X_word.append(word)\n",
    "    X_glove[line_index,:] = vect\n",
    "    line_index +=1\n",
    "X_glove = X_glove[:line_index]"
   ]
  },
  {
   "cell_type": "code",
   "execution_count": 43,
   "metadata": {},
   "outputs": [
    {
     "name": "stdout",
     "output_type": "stream",
     "text": [
      "306\n"
     ]
    }
   ],
   "source": [
    "#print(X_glove[line_index-1,:])\n",
    "print(X_word.index('search'))"
   ]
  },
  {
   "cell_type": "code",
   "execution_count": 4,
   "metadata": {
    "collapsed": true
   },
   "outputs": [],
   "source": [
    "import matplotlib.pyplot as plt\n",
    "from sklearn import manifold\n",
    "tsne = manifold.TSNE(n_components=3, init='pca', random_state=0)\n",
    "\n",
    "X_tsne = tsne.fit_transform(X_glove)\n",
    "\n"
   ]
  },
  {
   "cell_type": "markdown",
   "metadata": {},
   "source": [
    "以下是根据fcm的聚类分类结果标记每个单词的分类，然后在matlab 看聚类效果"
   ]
  },
  {
   "cell_type": "code",
   "execution_count": 12,
   "metadata": {},
   "outputs": [],
   "source": [
    "clusterwords = open('words_cluster_fcm_k100_m1p05_c100.txt','r')\n",
    "words = []\n",
    "for line in clusterwords:\n",
    "    words.append(line.replace('\\n','').split(' '))\n",
    "    "
   ]
  },
  {
   "cell_type": "code",
   "execution_count": 32,
   "metadata": {},
   "outputs": [
    {
     "name": "stdout",
     "output_type": "stream",
     "text": [
      "[-28.33544159 -20.87700462 -25.17119408   0.        ]\n"
     ]
    }
   ],
   "source": [
    "X_tsne_color = np.zeros((X_tsne.shape[0],4))\n",
    "X_tsne_color[:,0:3] = X_tsne"
   ]
  },
  {
   "cell_type": "code",
   "execution_count": 45,
   "metadata": {},
   "outputs": [],
   "source": [
    "\n",
    "for i in range(len(words)):\n",
    "    for j in range(len(words[i])):\n",
    "        try:\n",
    "            wordIndex = X_word.index(words[i][j])\n",
    "            X_tsne_color[wordIndex,3] = i + 1\n",
    "            #print(words[i][j])\n",
    "        except ValueError:\n",
    "            pass"
   ]
  },
  {
   "cell_type": "code",
   "execution_count": 44,
   "metadata": {},
   "outputs": [
    {
     "data": {
      "text/plain": [
       "array([-30.94007492,   5.77919912,  -0.75421655,   1.        ])"
      ]
     },
     "execution_count": 44,
     "metadata": {},
     "output_type": "execute_result"
    }
   ],
   "source": [
    "X_tsne_color[306,:]"
   ]
  },
  {
   "cell_type": "code",
   "execution_count": 5,
   "metadata": {
    "collapsed": true
   },
   "outputs": [],
   "source": [
    "#保存为mat文件\n",
    "import scipy.io as sio\n",
    "\n",
    "X_1mat = np.zeros((len(good),4))\n",
    "X_1mat_index = 0\n",
    "for word in good:\n",
    "    vecid = X_word.index(word)\n",
    "    X_1mat[X_1mat_index,:3] = X_tsne[vecid,:]\n",
    "    X_1mat[X_1mat_index,3:4] = 1\n",
    "    X_1mat_index +=1\n",
    "\n",
    "X_2mat = np.zeros((len(bad),4))\n",
    "X_2mat_index = 0\n",
    "for word in bad:\n",
    "    vecid = X_word.index(word)\n",
    "    X_2mat[X_2mat_index,:3] = X_tsne[vecid,:]\n",
    "    X_2mat[X_2mat_index,3:4] = 0\n",
    "    X_2mat_index +=1   \n",
    "    \n",
    "    \n",
    "X_mat = np.vstack((X_1mat,X_2mat))"
   ]
  },
  {
   "cell_type": "code",
   "execution_count": 46,
   "metadata": {},
   "outputs": [
    {
     "name": "stdout",
     "output_type": "stream",
     "text": [
      "[[ -8.78415871   6.64202499 -45.77281952   1.        ]\n",
      " [  0.6921823   11.12047863 -40.8196907    1.        ]\n",
      " [  5.32134628  16.71584702 -38.04060364   1.        ]\n",
      " [-13.18691349  19.49828339 -35.19655228   1.        ]\n",
      " [  2.7622261   12.59510422 -39.13491821   1.        ]\n",
      " [  4.14494896  15.01277065 -39.42596054   1.        ]\n",
      " [  6.18764305  14.62655544 -38.24407196   1.        ]\n",
      " [  8.26446247  16.79280853 -38.12714767   1.        ]\n",
      " [  5.98080158  17.5760231  -35.38808441   1.        ]\n",
      " [  6.00137663  17.61112976 -40.79008102   1.        ]\n",
      " [  1.86326969  17.3478508  -41.80352783   1.        ]\n",
      " [  9.93762493  16.22182846 -41.53398132   1.        ]\n",
      " [  2.20881104  13.30840778 -36.51000595   1.        ]\n",
      " [  3.33040094  11.04235268 -37.69023514   1.        ]\n",
      " [  4.01555204  13.48358631 -36.12337875   1.        ]\n",
      " [ -2.32908177  -2.05929899 -33.50580978   0.        ]\n",
      " [  8.77167416   4.78236246 -35.49397278   0.        ]\n",
      " [  3.66453266  19.99782562 -26.56574249   0.        ]\n",
      " [  9.13520622  -8.88357639 -42.7027359    0.        ]\n",
      " [ 20.66149521  16.1333065  -37.72480392   0.        ]\n",
      " [ 15.06505871  -9.62028694 -42.37085724   0.        ]\n",
      " [ 15.15516758  -5.67588329 -43.21691132   0.        ]\n",
      " [ 11.2478056   -8.52315426 -41.32774353   0.        ]\n",
      " [ 13.68780994  -6.59189987 -41.46505737   0.        ]\n",
      " [ 11.9002943   -6.16811991 -38.99501419   0.        ]\n",
      " [ 17.11564827  -8.5783844  -41.96988297   0.        ]\n",
      " [ 12.71395302  -4.60233355 -40.3099556    0.        ]\n",
      " [ 14.35205936  -5.69550085 -39.23869705   0.        ]\n",
      " [ 13.32255936 -14.68161488 -45.22942734   0.        ]\n",
      " [ 16.32497025  -3.87435246 -39.39515305   0.        ]]\n"
     ]
    }
   ],
   "source": [
    "sio.savemat('fasttext_good_bad.mat',{'Embedding':X_mat,'Allwords':X_tsne_color})\n",
    "\n",
    "print(X_mat)"
   ]
  },
  {
   "cell_type": "code",
   "execution_count": 102,
   "metadata": {
    "collapsed": true
   },
   "outputs": [],
   "source": [
    "# Scale and visualize the embedding vectors                            \n",
    "def plot_embedding2(X, X_color,words,title=None):     \n",
    "    #x_min, x_max = np.min(X, 0), np.max(X, 0)\n",
    "    #X = (X - x_min) / (x_max - x_min)                           \n",
    "    \n",
    "    for i in range(X.shape[0]):                          \n",
    "    #plt.text(X[i, 0], X[i, 1], \"5\",    \n",
    "    #         color='coral',         \n",
    "    #         fontdict={'weight': 'bold', 'size': 9})\n",
    "        plt.plot(X[i,0],X[i,1],color=X_color[:,i], marker='o')\n",
    "        plt.text(X[i,0],X[i,1],str(words[i]))\n",
    "    \n",
    "    #plt.figure()              \n",
    "    #ax = plt.subplot(111)      \n",
    "\n",
    "    \n",
    "    #plt.xticks([]), plt.yticks([])\n",
    "    if title is not None:\n",
    "        plt.title(title)\n",
    "    plt.show()"
   ]
  },
  {
   "cell_type": "code",
   "execution_count": 103,
   "metadata": {
    "collapsed": true
   },
   "outputs": [],
   "source": [
    "X_1 = np.zeros((len(good),2))\n",
    "X_1_Color = np.zeros((3,len(good)))\n",
    "X_1_index = 0\n",
    "for word in good:\n",
    "    vecid = X_word.index(word)\n",
    "    X_1[X_1_index,:] = X_tsne[vecid,:]\n",
    "    X_1_Color[:,X_1_index] = [1,0.0,0.0]\n",
    "    X_1_index +=1"
   ]
  },
  {
   "cell_type": "code",
   "execution_count": 104,
   "metadata": {
    "collapsed": true
   },
   "outputs": [],
   "source": [
    "X_2 = np.zeros((len(bad),2))\n",
    "X_2_Color = np.zeros((3,len(bad)))\n",
    "X_2_index = 0\n",
    "for word in bad:\n",
    "    vecid = X_word.index(word)\n",
    "    X_2[X_2_index,:] = X_tsne[vecid,:]\n",
    "    X_2_Color[:,X_2_index] = [0.0,0.0,1.0]\n",
    "    X_2_index +=1\n",
    "    "
   ]
  },
  {
   "cell_type": "code",
   "execution_count": 105,
   "metadata": {},
   "outputs": [
    {
     "name": "stdout",
     "output_type": "stream",
     "text": [
      "(30, 2)\n",
      "(3, 30)\n",
      "['fair', 'excellent', 'beautiful', 'pretty', 'wonderful', 'lovely', 'gorgeous', 'handsome', 'elegant', 'charming', 'pleasing', 'cute', 'splendid', 'marvelous', 'magnificent', 'ordinary', 'crude', 'poor', 'unattractive', 'dull', 'repulsive', 'grotesque', 'ugly', 'hideous', 'awful', 'disgusting', 'horrible', 'horrid', 'foul', 'beastly']\n"
     ]
    }
   ],
   "source": [
    "X = np.vstack((X_1,X_2))\n",
    "print(X.shape)\n",
    "X_Color = np.hstack((X_1_Color,X_2_Color))\n",
    "print(X_Color.shape)\n",
    "X_word = good+bad\n",
    "print(X_word)"
   ]
  },
  {
   "cell_type": "code",
   "execution_count": 86,
   "metadata": {},
   "outputs": [
    {
     "name": "stdout",
     "output_type": "stream",
     "text": [
      "(15, 2)\n",
      "[[ 0.5  0.5  0.5  0.5  0.5  0.5  0.5  0.5  0.5  0.5  0.5  0.5  0.5  0.5\n",
      "   0.5]\n",
      " [ 0.5  0.5  0.5  0.5  0.5  0.5  0.5  0.5  0.5  0.5  0.5  0.5  0.5  0.5\n",
      "   0.5]\n",
      " [ 0.5  0.5  0.5  0.5  0.5  0.5  0.5  0.5  0.5  0.5  0.5  0.5  0.5  0.5\n",
      "   0.5]]\n",
      "['fair', 'excellent', 'beautiful', 'pretty', 'wonderful', 'lovely', 'gorgeous', 'handsome', 'elegant', 'charming', 'pleasing', 'cute', 'splendid', 'marvelous', 'magnificent']\n"
     ]
    }
   ],
   "source": [
    "print(X_1.shape)\n",
    "print(X_1_Color)\n",
    "print(good)"
   ]
  },
  {
   "cell_type": "code",
   "execution_count": 106,
   "metadata": {},
   "outputs": [
    {
     "data": {
      "image/png": "[encoded data removed]",
      "text/plain": [
       "<matplotlib.figure.Figure at 0x7f1289221b38>"
      ]
     },
     "metadata": {},
     "output_type": "display_data"
    }
   ],
   "source": [
    "plot_embedding2(X, X_Color,X_word,                                  \n",
    "            \"t-SNE embedding of the Gloev==ve (time %.2fs)\" %\n",
    "               0.0)                           \n",
    "\n",
    "plt.show() "
   ]
  }
 ],
 "metadata": {
  "kernelspec": {
   "display_name": "Python 3",
   "language": "python",
   "name": "python3"
  },
  "language_info": {
   "codemirror_mode": {
    "name": "ipython",
    "version": 3
   },
   "file_extension": ".py",
   "mimetype": "text/x-python",
   "name": "python",
   "nbconvert_exporter": "python",
   "pygments_lexer": "ipython3",
   "version": "3.4.3"
  }
 },
 "nbformat": 4,
 "nbformat_minor": 2
}
